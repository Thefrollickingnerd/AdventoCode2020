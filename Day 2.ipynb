{
 "cells": [
  {
   "cell_type": "markdown",
   "metadata": {},
   "source": [
    "# Day 2"
   ]
  },
  {
   "cell_type": "markdown",
   "metadata": {},
   "source": [
    "__Part 1__"
   ]
  },
  {
   "cell_type": "code",
   "execution_count": 2,
   "metadata": {},
   "outputs": [],
   "source": [
    "import re"
   ]
  },
  {
   "cell_type": "code",
   "execution_count": 23,
   "metadata": {},
   "outputs": [
    {
     "name": "stdout",
     "output_type": "stream",
     "text": [
      "410\n"
     ]
    }
   ],
   "source": [
    "with open(\"Day2Data.txt\", 'r') as f:\n",
    "    data = f.read().split('\\n')\n",
    "    \n",
    "regex = re.compile(r'(\\w+)-(\\w+) (\\w): (\\w+)')\n",
    "no_passed = 0\n",
    "\n",
    "for record in data:\n",
    "    match = regex.search(record)\n",
    "    low  = int(match.group(1))\n",
    "    high = int(match.group(2))\n",
    "    letter = match.group(3)\n",
    "    password = match.group(4)\n",
    "    lettercount = password.count(f\"{letter}\")\n",
    "    \n",
    "    if (lettercount >= low) and (lettercount <= high):\n",
    "        no_passed += 1\n",
    "\n",
    "print(no_passed)\n",
    "\n",
    "\n",
    "    \n"
   ]
  },
  {
   "cell_type": "markdown",
   "metadata": {},
   "source": [
    "__Part 2__"
   ]
  },
  {
   "cell_type": "code",
   "execution_count": 33,
   "metadata": {},
   "outputs": [
    {
     "name": "stdout",
     "output_type": "stream",
     "text": [
      "694\n"
     ]
    }
   ],
   "source": [
    "with open(\"Day2Data.txt\", 'r') as f:\n",
    "    data = f.read().split('\\n')\n",
    "   \n",
    "regex = re.compile(r'(\\w+)-(\\w+) (\\w): (\\w+)')\n",
    "no_passed = 0\n",
    "\n",
    "for record in data:\n",
    "    match = regex.search(record)\n",
    "    # match = regex.search(data[2])\n",
    "    ind1  = int(match.group(1))\n",
    "    ind2 = int(match.group(2))\n",
    "    letter = match.group(3)\n",
    "    password = match.group(4)\n",
    "\n",
    "\n",
    "    if (password[ind1-1] == letter) != (password[ind2-1] == letter):\n",
    "        no_passed += 1\n",
    "\n",
    "print(no_passed)"
   ]
  },
  {
   "cell_type": "code",
   "execution_count": null,
   "metadata": {},
   "outputs": [],
   "source": []
  }
 ],
 "metadata": {
  "kernelspec": {
   "display_name": "Python 3.8.3 64-bit ('neural_net': conda)",
   "language": "python",
   "name": "python38364bitneuralnetconda3b6a436ab16f4f01b579b37a2a21bd3b"
  },
  "language_info": {
   "codemirror_mode": {
    "name": "ipython",
    "version": 3
   },
   "file_extension": ".py",
   "mimetype": "text/x-python",
   "name": "python",
   "nbconvert_exporter": "python",
   "pygments_lexer": "ipython3",
   "version": "3.8.2"
  }
 },
 "nbformat": 4,
 "nbformat_minor": 4
}
