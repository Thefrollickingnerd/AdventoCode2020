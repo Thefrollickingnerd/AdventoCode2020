{
 "cells": [
  {
   "cell_type": "markdown",
   "metadata": {},
   "source": [
    "# Day 9"
   ]
  },
  {
   "cell_type": "code",
   "execution_count": 65,
   "metadata": {},
   "outputs": [],
   "source": [
    "def find_error(low,high,numbers):\n",
    "    \n",
    "    for num in numbers[high:]:\n",
    "        preamb  = numbers[low:high].copy()\n",
    "        preambS = set(preamb) \n",
    "        trigger = 1\n",
    "        for no in preamb:\n",
    "            rem = num - no\n",
    "            if rem not in preambS:\n",
    "                continue\n",
    "            else:\n",
    "                trigger = 0\n",
    "                break\n",
    "        if trigger == 1:\n",
    "            print(f\"Error occured at number: {num}\")\n",
    "            break\n",
    "\n",
    "        low  += 1\n",
    "        high += 1\n",
    "        \n",
    "    return num\n",
    "        \n",
    "def find_contiguous(goal, numbers):\n",
    "    \n",
    "    trigger = 0\n",
    "    for i,n1 in enumerate(numbers):\n",
    "        segment = [n1]\n",
    "        for num in numbers[i+1:]:\n",
    "            segment.append(num)\n",
    "            if sum(segment) > goal:\n",
    "                break\n",
    "            elif sum(segment) == goal:\n",
    "                print(f\"Contiguous series found, weakness are {min(segment)} and {max(segment)}\")\n",
    "                trigger = 1\n",
    "                break\n",
    "        if trigger:\n",
    "            break\n",
    "    \n",
    "    return min(segment), max(segment)"
   ]
  },
  {
   "cell_type": "code",
   "execution_count": 66,
   "metadata": {},
   "outputs": [
    {
     "name": "stdout",
     "output_type": "stream",
     "text": [
      "1000\n",
      "Error occured at number: 400480901\n",
      "400480901\n",
      "----\n",
      "Contiguous series found, weakness are 13430479 and 54156689\n",
      "67587168\n"
     ]
    }
   ],
   "source": [
    "with open(\"Day9Data.txt\", \"r\") as f:\n",
    "    data = f.read().split(\"\\n\")\n",
    "\n",
    "data = [int(num) for num in data]\n",
    "print(len(data))\n",
    "res = find_error(0, 25, data)\n",
    "print(res)\n",
    "print(\"----\")\n",
    "sml, lrg = find_contiguous(res, data)\n",
    "print(sml+lrg)\n"
   ]
  }
 ],
 "metadata": {
  "kernelspec": {
   "display_name": "Python 3.8.3 64-bit ('neural_net': conda)",
   "language": "python",
   "name": "python38364bitneuralnetconda3b6a436ab16f4f01b579b37a2a21bd3b"
  },
  "language_info": {
   "codemirror_mode": {
    "name": "ipython",
    "version": 3
   },
   "file_extension": ".py",
   "mimetype": "text/x-python",
   "name": "python",
   "nbconvert_exporter": "python",
   "pygments_lexer": "ipython3",
   "version": "3.8.2"
  }
 },
 "nbformat": 4,
 "nbformat_minor": 4
}
