{
 "cells": [
  {
   "cell_type": "markdown",
   "metadata": {},
   "source": [
    "# Day 8"
   ]
  },
  {
   "cell_type": "code",
   "execution_count": 127,
   "metadata": {},
   "outputs": [],
   "source": [
    "def parse_command(line):\n",
    "    cmd  = line[:3]\n",
    "    move = line.split(\" \")[1]\n",
    "    return cmd, move\n",
    "\n",
    "def read_command(cmd, move, index, acc):\n",
    "    \n",
    "    if cmd == \"acc\":\n",
    "        acc += int(move)\n",
    "        index += 1\n",
    "    elif cmd == \"jmp\":\n",
    "        index += int(move)\n",
    "    elif cmd == \"nop\":\n",
    "        index += 1\n",
    "    \n",
    "    return acc, index\n",
    "\n",
    "def run_commands(code):    \n",
    "    ind = 0\n",
    "    acc = 0\n",
    "    indtrck = {ind}\n",
    "    wrk = False\n",
    "    while True:\n",
    "#         try:\n",
    "        cmd, mv = parse_command(code[ind])\n",
    "#         except:\n",
    "#             print(code[ind],ind)\n",
    "        acc, ind = read_command(cmd, mv, ind, acc)\n",
    "        if ind in indtrck:\n",
    "            break\n",
    "        elif ind >= len(code):\n",
    "            print(\"Code works\")\n",
    "            wrk = True\n",
    "            break\n",
    "        indtrck.add(ind)\n",
    "    return acc, indtrck, wrk"
   ]
  },
  {
   "cell_type": "code",
   "execution_count": 131,
   "metadata": {
    "scrolled": true
   },
   "outputs": [
    {
     "name": "stdout",
     "output_type": "stream",
     "text": [
      "1749\n"
     ]
    }
   ],
   "source": [
    "with open(\"Day8Data.txt\", \"r\") as f:\n",
    "    code = f.read().split(\"\\n\")\n",
    "    \n",
    "acc, indtrck, _ = run_commands(code)\n",
    "print(acc)"
   ]
  },
  {
   "cell_type": "markdown",
   "metadata": {},
   "source": [
    "__Part 2__"
   ]
  },
  {
   "cell_type": "code",
   "execution_count": 132,
   "metadata": {
    "scrolled": true
   },
   "outputs": [
    {
     "name": "stdout",
     "output_type": "stream",
     "text": [
      "Code works\n",
      "Code fixed, acc=515\n"
     ]
    }
   ],
   "source": [
    "with open(\"Day8Data.txt\", \"r\") as f:\n",
    "    code = f.read().split(\"\\n\")\n",
    "    \n",
    "_, indtrck, _ = run_commands(code)\n",
    "\n",
    "inds = list(indtrck)\n",
    "inds.sort()\n",
    "\n",
    "for ind in inds:\n",
    "    codemod = code.copy()\n",
    "    cmd, mv = parse_command(codemod[ind])\n",
    "    if cmd == \"jmp\":\n",
    "        codemod[ind] = f\"nop {mv}\"\n",
    "    elif cmd == \"nop\":\n",
    "        codemod[ind] = f\"jmp {mv}\"\n",
    "    elif cmd == \"acc\":\n",
    "        continue\n",
    "    acc,_,wrk = run_commands(codemod)\n",
    "    if wrk:\n",
    "        print(f\"Code fixed, acc={acc}\")\n",
    "        break\n",
    "\n",
    "    "
   ]
  },
  {
   "cell_type": "code",
   "execution_count": null,
   "metadata": {},
   "outputs": [],
   "source": []
  }
 ],
 "metadata": {
  "kernelspec": {
   "display_name": "Python 3.8.3 64-bit ('neural_net': conda)",
   "language": "python",
   "name": "python38364bitneuralnetconda3b6a436ab16f4f01b579b37a2a21bd3b"
  },
  "language_info": {
   "codemirror_mode": {
    "name": "ipython",
    "version": 3
   },
   "file_extension": ".py",
   "mimetype": "text/x-python",
   "name": "python",
   "nbconvert_exporter": "python",
   "pygments_lexer": "ipython3",
   "version": "3.8.2"
  }
 },
 "nbformat": 4,
 "nbformat_minor": 4
}
