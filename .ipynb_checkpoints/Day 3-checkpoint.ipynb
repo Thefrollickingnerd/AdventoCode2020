{
 "cells": [
  {
   "cell_type": "markdown",
   "metadata": {},
   "source": [
    "# Day 3\n",
    "\n",
    "__Part 1__"
   ]
  },
  {
   "cell_type": "code",
   "execution_count": 10,
   "metadata": {},
   "outputs": [],
   "source": [
    "import numpy as np\n",
    "import pandas as pd"
   ]
  },
  {
   "cell_type": "code",
   "execution_count": 46,
   "metadata": {},
   "outputs": [],
   "source": [
    "def traverse_slope(course, r_steps, d_steps):\n",
    "    \n",
    "    len_slope    = len(course)\n",
    "    len_segment  = len(course[0])\n",
    "    no_steps_r   = len_slope*r_steps\n",
    "    no_duplicate = int(np.ceil(no_steps_r/len_segment))\n",
    "    \n",
    "    course = [segment*no_duplicate for segment in course]    \n",
    "\n",
    "    right = 0\n",
    "    tree_cnt = 0\n",
    "    \n",
    "    for down in range(0,len_slope, d_steps):\n",
    "        if course[down][right] == \"#\":\n",
    "            tree_cnt += 1\n",
    "        right += r_steps\n",
    "    return tree_cnt"
   ]
  },
  {
   "cell_type": "code",
   "execution_count": 47,
   "metadata": {},
   "outputs": [
    {
     "name": "stdout",
     "output_type": "stream",
     "text": [
      "218\n"
     ]
    }
   ],
   "source": [
    "with open(\"Day3Data.txt\", 'r') as f:\n",
    "    course = f.read().split('\\n')\n",
    "\n",
    "    \n",
    "print(traverse_slope(course,3,1))"
   ]
  },
  {
   "cell_type": "markdown",
   "metadata": {},
   "source": [
    "__Part 2__"
   ]
  },
  {
   "cell_type": "code",
   "execution_count": 52,
   "metadata": {},
   "outputs": [
    {
     "name": "stdout",
     "output_type": "stream",
     "text": [
      "[77, 218, 65, 82, 43]\n",
      "3847183340\n"
     ]
    }
   ],
   "source": [
    "with open(\"Day3Data.txt\", 'r') as f:\n",
    "    course = f.read().split('\\n')\n",
    "    \n",
    "moves = [(1,1),(3,1),(5,1),(7,1),(1,2)]\n",
    "tree_cnt = []\n",
    "\n",
    "for i,param in enumerate(moves):\n",
    "    tree_cnt.append(traverse_slope(course,param[0],param[1]))\n",
    "\n",
    "print(tree_cnt)\n",
    "print(np.prod(tree_cnt))"
   ]
  }
 ],
 "metadata": {
  "kernelspec": {
   "display_name": "Python 3.8.3 64-bit ('neural_net': conda)",
   "language": "python",
   "name": "python38364bitneuralnetconda3b6a436ab16f4f01b579b37a2a21bd3b"
  },
  "language_info": {
   "codemirror_mode": {
    "name": "ipython",
    "version": 3
   },
   "file_extension": ".py",
   "mimetype": "text/x-python",
   "name": "python",
   "nbconvert_exporter": "python",
   "pygments_lexer": "ipython3",
   "version": "3.8.2"
  }
 },
 "nbformat": 4,
 "nbformat_minor": 4
}
