{
 "cells": [
  {
   "cell_type": "markdown",
   "metadata": {},
   "source": [
    "# Day 6"
   ]
  },
  {
   "cell_type": "markdown",
   "metadata": {},
   "source": [
    "__Part 1__ Clean the results s.t. each group is a list element and then remove duplicates"
   ]
  },
  {
   "cell_type": "code",
   "execution_count": 12,
   "metadata": {},
   "outputs": [
    {
     "name": "stdout",
     "output_type": "stream",
     "text": [
      "6686\n"
     ]
    }
   ],
   "source": [
    "with open(\"Day6Data.txt\", \"r\") as f:\n",
    "    answers = f.read().split(\"\\n\\n\")\n",
    "answers = sum([len(\"\".join(set(resp.replace('\\n','')))) for resp in answers])\n",
    "print(answers)"
   ]
  },
  {
   "cell_type": "markdown",
   "metadata": {},
   "source": [
    "__Part 2__\n",
    "\n",
    "Not a very neat solution, but it works nonetheless."
   ]
  },
  {
   "cell_type": "code",
   "execution_count": 61,
   "metadata": {},
   "outputs": [],
   "source": [
    "def check_all(answer):\n",
    "    \n",
    "    count = 0\n",
    "    letterlist = []\n",
    "    for element in answer:\n",
    "        for letter in element:\n",
    "            if (letter not in letterlist) and all([letter in element for element in answer]):\n",
    "                count +=1\n",
    "            else: \n",
    "                continue\n",
    "            letterlist.append(letter)\n",
    "    return count"
   ]
  },
  {
   "cell_type": "code",
   "execution_count": 65,
   "metadata": {},
   "outputs": [
    {
     "name": "stdout",
     "output_type": "stream",
     "text": [
      "3476\n"
     ]
    }
   ],
   "source": [
    "with open(\"Day6Data.txt\", \"r\") as f:\n",
    "    answers = f.read().split(\"\\n\\n\")\n",
    "answers = [answ.split(\"\\n\") for answ in answers]\n",
    "\n",
    "count = sum([check_all(ans) for ans in answers])\n",
    "print(count)"
   ]
  }
 ],
 "metadata": {
  "kernelspec": {
   "display_name": "Python 3.8.3 64-bit ('neural_net': conda)",
   "language": "python",
   "name": "python38364bitneuralnetconda3b6a436ab16f4f01b579b37a2a21bd3b"
  },
  "language_info": {
   "codemirror_mode": {
    "name": "ipython",
    "version": 3
   },
   "file_extension": ".py",
   "mimetype": "text/x-python",
   "name": "python",
   "nbconvert_exporter": "python",
   "pygments_lexer": "ipython3",
   "version": "3.8.2"
  }
 },
 "nbformat": 4,
 "nbformat_minor": 4
}
