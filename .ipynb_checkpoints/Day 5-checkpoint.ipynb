{
 "cells": [
  {
   "cell_type": "markdown",
   "metadata": {},
   "source": [
    "# Day 5\n",
    "\n",
    "__Part 1__"
   ]
  },
  {
   "cell_type": "code",
   "execution_count": 13,
   "metadata": {},
   "outputs": [],
   "source": [
    "import numpy as np"
   ]
  },
  {
   "cell_type": "code",
   "execution_count": 47,
   "metadata": {},
   "outputs": [],
   "source": [
    "def find_seat_id(boarding_pass):\n",
    "\n",
    "    row_list  = boarding_pass[0:7]\n",
    "    seat_list = boarding_pass[7:]\n",
    "    \n",
    "    front   = lambda low, high: (low, high - np.ceil((high-low)/2), low)\n",
    "    back    = lambda low, high: (low + np.ceil((high-low)/2), high, high) \n",
    "    low_r   = 0\n",
    "    high_r  = 127\n",
    "    low_s   = 0\n",
    "    high_s  = 7\n",
    "    row_no  = 0\n",
    "    seat_no = 0\n",
    "    \n",
    "    for row_cri in row_list:\n",
    "        if row_cri == \"F\":\n",
    "            low_r, high_r, row_no = front(low_r,high_r)           \n",
    "        elif row_cri == \"B\":\n",
    "            low_r, high_r, row_no = back(low_r,high_r)\n",
    "            \n",
    "    for seat_cri in seat_list:\n",
    "        if seat_cri == \"L\":\n",
    "            low_s, high_s, seat_no = front(low_s,high_s)         \n",
    "        elif seat_cri == \"R\":\n",
    "            low_s, high_s, seat_no = back(low_s,high_s)\n",
    "         \n",
    "    seat_id = row_no*8 + seat_no   \n",
    "    return row_no, seat_no, seat_id"
   ]
  },
  {
   "cell_type": "code",
   "execution_count": 57,
   "metadata": {},
   "outputs": [
    {
     "name": "stdout",
     "output_type": "stream",
     "text": [
      "==== Part 1 ====\n",
      "\n",
      "Largest seat ID is : 866.0\n",
      "\n",
      "==== Part 2 ====\n",
      "\n",
      "        Seat ID 1: 582.0, Seat ID: 584.0\n",
      "        Your seat ID is 583.0\n",
      "        \n"
     ]
    }
   ],
   "source": [
    "with open(\"Day5Data.txt\", \"r\") as f:\n",
    "    brd_passes = f.read().split(\"\\n\")\n",
    "\n",
    "seat_ids = [find_seat_id(brd_pass)[2] for brd_pass in brd_passes]\n",
    "\n",
    "print(\"==== Part 1 ====\\n\")\n",
    "print(f\"Largest seat ID is : {np.max(seat_ids)}\\n\")\n",
    "\n",
    "print(\"==== Part 2 ====\")\n",
    "\n",
    "for number in seat_ids:\n",
    "    rem1 = number - 2\n",
    "    rem2 = number + 2\n",
    "    if (rem1 in seat_ids) and (rem1 + 1 not in seat_ids):\n",
    "        print(f\"\"\"\n",
    "        Seat ID 1: {rem1}, Seat ID: {number}\n",
    "        Your seat ID is {rem1 + 1}\n",
    "        \"\"\")\n",
    "        break\n",
    "    elif (rem2 in seat_ids) and (rem2 -1 not in seat_ids):\n",
    "        print(f\"\"\"\n",
    "        Seat ID 1: {number}, Seat ID: {rem2}\n",
    "        Your seat ID is {number + 1}\n",
    "        \"\"\")\n",
    "        break\n",
    "    else: \n",
    "        continue"
   ]
  }
 ],
 "metadata": {
  "kernelspec": {
   "display_name": "Python 3.8.3 64-bit ('neural_net': conda)",
   "language": "python",
   "name": "python38364bitneuralnetconda3b6a436ab16f4f01b579b37a2a21bd3b"
  },
  "language_info": {
   "codemirror_mode": {
    "name": "ipython",
    "version": 3
   },
   "file_extension": ".py",
   "mimetype": "text/x-python",
   "name": "python",
   "nbconvert_exporter": "python",
   "pygments_lexer": "ipython3",
   "version": "3.8.2"
  }
 },
 "nbformat": 4,
 "nbformat_minor": 4
}
