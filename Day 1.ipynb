{
 "cells": [
  {
   "cell_type": "markdown",
   "metadata": {},
   "source": [
    "# Day 1"
   ]
  },
  {
   "cell_type": "markdown",
   "metadata": {},
   "source": [
    "__Part one__"
   ]
  },
  {
   "cell_type": "markdown",
   "metadata": {},
   "source": [
    "By using python's version of a hashtable (dictionaries), I only need to query each number once making the process much more efficient then having nested loops. "
   ]
  },
  {
   "cell_type": "code",
   "execution_count": 14,
   "metadata": {},
   "outputs": [
    {
     "name": "stdout",
     "output_type": "stream",
     "text": [
      "\n",
      "        Number 1: 1404, Number 2: 616\n",
      "        1404x616 = 864864\n",
      "        \n"
     ]
    }
   ],
   "source": [
    "with open(\"Day1Data.txt\", 'r') as f:\n",
    "    data = list(map(int, f.read().split('\\n'))) \n",
    "\n",
    "table = dict()\n",
    "for number in data:\n",
    "    rem = 2020 - number\n",
    "    if rem in table:\n",
    "        print(f\"\"\"\n",
    "        Number 1: {rem}, Number 2: {number}\n",
    "        {rem}x{number} = {rem*number}\n",
    "        \"\"\")\n",
    "    else: \n",
    "        table[number] = \"\"\n",
    "        "
   ]
  },
  {
   "cell_type": "markdown",
   "metadata": {},
   "source": [
    "__Part two__"
   ]
  },
  {
   "cell_type": "markdown",
   "metadata": {},
   "source": [
    "Similar to the problem above, I use the same process to find the final number once I select the first two. Less efficient then the previous solution due to the nested for loops but still more efficient then a naive solution. \n",
    "\n",
    "Outer loop starts at i and inner loop will start at i + 1. Then use hashtable method to find third number. "
   ]
  },
  {
   "cell_type": "code",
   "execution_count": 22,
   "metadata": {},
   "outputs": [
    {
     "name": "stdout",
     "output_type": "stream",
     "text": [
      "\n",
      "             Number 1: 857, Number 2: 680, Number 3: 483\n",
      "             857x680x483 = 281473080\n",
      "             \n"
     ]
    }
   ],
   "source": [
    "with open(\"Day1Data.txt\", 'r') as f:\n",
    "    data = list(map(int, f.read().split('\\n'))) \n",
    "\n",
    "\n",
    "for i,number1 in enumerate(data):\n",
    "    table = dict()\n",
    "    for number2 in data[i:]:\n",
    "        rem = 2020 - number1 - number2\n",
    "        if rem in table:\n",
    "             print(f\"\"\"\n",
    "             Number 1: {number1}, Number 2: {number2}, Number 3: {rem}\n",
    "             {number1}x{number2}x{rem} = {rem*number1*number2}\n",
    "             \"\"\")\n",
    "        else: \n",
    "            table[number2] = \"\""
   ]
  }
 ],
 "metadata": {
  "kernelspec": {
   "display_name": "Python 3.8.3 64-bit ('neural_net': conda)",
   "language": "python",
   "name": "python38364bitneuralnetconda3b6a436ab16f4f01b579b37a2a21bd3b"
  },
  "language_info": {
   "codemirror_mode": {
    "name": "ipython",
    "version": 3
   },
   "file_extension": ".py",
   "mimetype": "text/x-python",
   "name": "python",
   "nbconvert_exporter": "python",
   "pygments_lexer": "ipython3",
   "version": "3.8.2"
  }
 },
 "nbformat": 4,
 "nbformat_minor": 4
}
