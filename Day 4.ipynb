{
 "cells": [
  {
   "cell_type": "markdown",
   "metadata": {},
   "source": [
    "# Day 4\n",
    "\n",
    "__Part 1 and Part 2__\n",
    "\n",
    "Part 2 "
   ]
  },
  {
   "cell_type": "code",
   "execution_count": 32,
   "metadata": {},
   "outputs": [],
   "source": [
    "import re"
   ]
  },
  {
   "cell_type": "code",
   "execution_count": 60,
   "metadata": {},
   "outputs": [
    {
     "name": "stdout",
     "output_type": "stream",
     "text": [
      "230\n",
      "156\n"
     ]
    }
   ],
   "source": [
    "with open(\"Day4Data.txt\", 'r') as f:\n",
    "    data = f.read().split(\"\\n\\n\")\n",
    "\n",
    "data = [string.replace(\"\\n\", \" \").split(\" \") for string in data]    \n",
    "passports = []\n",
    "for passport in data:\n",
    "    passports.append({entry[0]:entry[1] for entry in (entry.split(\":\") for entry in passport)})\n",
    "\n",
    "\n",
    "print(check_passports_pt1(passports))\n",
    "print(check_passports_pt2(passports))"
   ]
  },
  {
   "cell_type": "code",
   "execution_count": 59,
   "metadata": {},
   "outputs": [],
   "source": [
    "def check_passports_pt1(passports):\n",
    "\n",
    "    \n",
    "    criteria = [\n",
    "        \"byr\",\n",
    "        \"iyr\",\n",
    "        \"eyr\",\n",
    "        \"hgt\",\n",
    "        \"hcl\",\n",
    "        \"ecl\",\n",
    "        \"pid\"]\n",
    "    \n",
    "    \n",
    "    valid_passports = 0\n",
    "    for passport in passports: \n",
    "        check =  all(entry in passport.keys() for entry in criteria)\n",
    "        if check:\n",
    "                valid_passports += 1\n",
    "\n",
    "    return valid_passports\n",
    "\n",
    "\n",
    "def check_passports_pt2(passports):\n",
    "\n",
    "    \n",
    "    hcl_reg = re.compile(r'#\\w\\w\\w\\w\\w\\w')\n",
    "    criteria = {\n",
    "        \"byr\":(1920,2002),\n",
    "        \"iyr\":(2010,2020),\n",
    "        \"eyr\":(2020,2030),\n",
    "        \"hgt\":[(150,193),(59,76)],\n",
    "        \"hcl\":\"\",\n",
    "        \"ecl\":['amb','blu','brn','gry','grn','hzl','oth'],\n",
    "        \"pid\":9}\n",
    "    \n",
    "    \n",
    "    valid_passports = 0\n",
    "    for passport in passports: \n",
    "        check =  [all(entry in passport.keys() for entry in criteria.keys())]\n",
    "        if all(check):\n",
    "            \n",
    "            check.append(True if (criteria[\"byr\"][0] <= int(passport[\"byr\"])) and (int(passport[\"byr\"]) <= criteria[\"byr\"][1]) else False)\n",
    "            check.append(True if (criteria[\"iyr\"][0] <= int(passport[\"iyr\"])) and (int(passport[\"iyr\"]) <= criteria[\"iyr\"][1]) else False)\n",
    "            check.append(True if (criteria[\"eyr\"][0] <= int(passport[\"eyr\"])) and (int(passport[\"eyr\"]) <= criteria[\"eyr\"][1]) else False)\n",
    "            if \"cm\" in passport[\"hgt\"]:\n",
    "                check.append(True if (criteria[\"hgt\"][0][0] <= int(passport[\"hgt\"][:-2])) and (int(passport[\"hgt\"][:-2]) <= criteria[\"hgt\"][0][1]) else False)\n",
    "            elif \"in\" in passport[\"hgt\"]:\n",
    "                check.append(True if (criteria[\"hgt\"][1][0] <= int(passport[\"hgt\"][:-2])) and (int(passport[\"hgt\"][:-2]) <= criteria[\"hgt\"][1][1]) else False)\n",
    "            else:\n",
    "                check.append(False)\n",
    "            check.append(True if hcl_reg.search(passport[\"hcl\"]) != None else False)\n",
    "            check.append(any(item in passport[\"ecl\"] for item in criteria[\"ecl\"]))\n",
    "            check.append(True if len(passport[\"pid\"]) == criteria[\"pid\"] else False)\n",
    "            \n",
    "            if all(check):\n",
    "                valid_passports += 1\n",
    "            else:\n",
    "                continue\n",
    "    return valid_passports"
   ]
  }
 ],
 "metadata": {
  "kernelspec": {
   "display_name": "Python 3.8.3 64-bit ('neural_net': conda)",
   "language": "python",
   "name": "python38364bitneuralnetconda3b6a436ab16f4f01b579b37a2a21bd3b"
  },
  "language_info": {
   "codemirror_mode": {
    "name": "ipython",
    "version": 3
   },
   "file_extension": ".py",
   "mimetype": "text/x-python",
   "name": "python",
   "nbconvert_exporter": "python",
   "pygments_lexer": "ipython3",
   "version": "3.8.2"
  }
 },
 "nbformat": 4,
 "nbformat_minor": 4
}
