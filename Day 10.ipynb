{
 "cells": [
  {
   "cell_type": "markdown",
   "metadata": {},
   "source": [
    "# Day 10"
   ]
  },
  {
   "cell_type": "code",
   "execution_count": 15,
   "metadata": {},
   "outputs": [
    {
     "name": "stdout",
     "output_type": "stream",
     "text": [
      "106\n",
      "[1, 2, 3, 4, 7, 10, 11, 12, 13, 16, 17, 18, 19, 20, 23, 24, 25, 26, 29, 30, 31, 34, 35, 36, 37, 40, 41, 42, 45, 48, 49, 50, 51, 54, 57, 58, 59, 62, 65, 66, 67, 68, 69, 72, 73, 74, 75, 78, 79, 80, 83, 84, 85, 88, 89, 90, 91, 94, 95, 96, 97, 100, 103, 104, 105, 106, 107, 110, 111, 112, 115, 116, 117, 118, 119, 122, 125, 126, 127, 128, 129, 132, 135, 136, 137, 138, 141, 142, 145, 146, 149, 152, 155, 156, 157, 158, 159, 162, 163, 164, 165, 166, 169, 170, 171, 172]\n"
     ]
    }
   ],
   "source": [
    "with open(\"Day10Data.txt\", \"r\") as f:\n",
    "    adaptors = f.read().split(\"\\n\")\n",
    "    adaptors = [int(adpt) for adpt in adaptors]\n",
    "    adaptors.sort()\n",
    "print(len(adaptors))\n",
    "print(adaptors)\n"
   ]
  },
  {
   "cell_type": "code",
   "execution_count": 25,
   "metadata": {},
   "outputs": [
    {
     "name": "stdout",
     "output_type": "stream",
     "text": [
      "2482\n"
     ]
    }
   ],
   "source": [
    "chck1 = 0\n",
    "chck3 = 0\n",
    "\n",
    "for i,adpt in enumerate(adaptors[1:]):\n",
    "    \n",
    "    if adpt - adaptors[i] == 1:\n",
    "        chck1 += 1\n",
    "    elif adpt - adaptors[i] == 3:\n",
    "        chck3 += 1\n",
    "    else:\n",
    "        continue\n",
    "\n",
    "print((chck1+1)*(chck3+1))\n",
    "        \n"
   ]
  },
  {
   "cell_type": "code",
   "execution_count": 21,
   "metadata": {},
   "outputs": [],
   "source": [
    "st = \"\"\"28\n",
    "33\n",
    "18\n",
    "42\n",
    "31\n",
    "14\n",
    "46\n",
    "20\n",
    "48\n",
    "47\n",
    "24\n",
    "23\n",
    "49\n",
    "45\n",
    "19\n",
    "38\n",
    "39\n",
    "11\n",
    "1\n",
    "32\n",
    "25\n",
    "35\n",
    "8\n",
    "17\n",
    "7\n",
    "9\n",
    "4\n",
    "2\n",
    "34\n",
    "10\n",
    "3\"\"\""
   ]
  },
  {
   "cell_type": "code",
   "execution_count": 24,
   "metadata": {},
   "outputs": [
    {
     "name": "stdout",
     "output_type": "stream",
     "text": [
      "[1, 2, 3, 4, 7, 8, 9, 10, 11, 14, 17, 18, 19, 20, 23, 24, 25, 28, 31, 32, 33, 34, 35, 38, 39, 42, 45, 46, 47, 48, 49]\n",
      "21 9\n"
     ]
    }
   ],
   "source": [
    "adp = st.split(\"\\n\")\n",
    "adp = [int(adpt) for adpt in adp]\n",
    "adp.sort()\n",
    "print(adp)\n",
    "chck1 = 0\n",
    "chck3 = 0\n",
    "\n",
    "for i,adpt in enumerate(adp[1:]):\n",
    "    \n",
    "    if adpt - adp[i] == 1:\n",
    "        chck1 += 1\n",
    "    elif adpt - adp[i] == 3:\n",
    "        chck3 += 1\n",
    "    else:\n",
    "        continue\n",
    "\n",
    "print(chck1,chck3)"
   ]
  }
 ],
 "metadata": {
  "kernelspec": {
   "display_name": "Python 3.8.3 64-bit ('neural_net': conda)",
   "language": "python",
   "name": "python38364bitneuralnetconda3b6a436ab16f4f01b579b37a2a21bd3b"
  },
  "language_info": {
   "codemirror_mode": {
    "name": "ipython",
    "version": 3
   },
   "file_extension": ".py",
   "mimetype": "text/x-python",
   "name": "python",
   "nbconvert_exporter": "python",
   "pygments_lexer": "ipython3",
   "version": "3.8.2"
  }
 },
 "nbformat": 4,
 "nbformat_minor": 4
}
